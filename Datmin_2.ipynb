{
  "nbformat": 4,
  "nbformat_minor": 0,
  "metadata": {
    "colab": {
      "provenance": [],
      "include_colab_link": true
    },
    "kernelspec": {
      "name": "python3",
      "display_name": "Python 3"
    },
    "language_info": {
      "name": "python"
    }
  },
  "cells": [
    {
      "cell_type": "markdown",
      "metadata": {
        "id": "view-in-github",
        "colab_type": "text"
      },
      "source": [
        "<a href=\"https://colab.research.google.com/github/xthaj/datmin/blob/main/Datmin_2.ipynb\" target=\"_parent\"><img src=\"https://colab.research.google.com/assets/colab-badge.svg\" alt=\"Open In Colab\"/></a>"
      ]
    },
    {
      "cell_type": "markdown",
      "source": [
        "[PPT](https://www.canva.com/design/DAGDz1PYVHg/wDfsmM6tsF3-zQIR1dJdtQ/edit?utm_content=DAGDz1PYVHg&utm_campaign=designshare&utm_medium=link2&utm_source=sharebutton)"
      ],
      "metadata": {
        "id": "yi8l5GmlZH9t"
      }
    },
    {
      "cell_type": "code",
      "execution_count": 13,
      "metadata": {
        "id": "15iQTXLtYVQm"
      },
      "outputs": [],
      "source": []
    },
    {
      "cell_type": "markdown",
      "source": [
        "# Data"
      ],
      "metadata": {
        "id": "G36AZGknYl5a"
      }
    },
    {
      "cell_type": "code",
      "source": [
        "pip install ucimlrepo"
      ],
      "metadata": {
        "colab": {
          "base_uri": "https://localhost:8080/"
        },
        "id": "J5Txe_YSaAfI",
        "outputId": "340ad5bb-5abf-4f4a-b6df-faca7e92f0b8"
      },
      "execution_count": 14,
      "outputs": [
        {
          "output_type": "stream",
          "name": "stdout",
          "text": [
            "Requirement already satisfied: ucimlrepo in /usr/local/lib/python3.10/dist-packages (0.0.6)\n"
          ]
        }
      ]
    },
    {
      "cell_type": "code",
      "source": [
        "from ucimlrepo import fetch_ucirepo\n",
        "\n",
        "# fetch dataset\n",
        "apartment_for_rent_classified = fetch_ucirepo(id=555)\n",
        "\n",
        "# data (as pandas dataframes)\n",
        "data = apartment_for_rent_classified.data.features\n",
        "\n",
        "# metadata\n",
        "print(apartment_for_rent_classified.metadata)\n",
        "\n",
        "# variable information\n",
        "print(apartment_for_rent_classified.variables)\n"
      ],
      "metadata": {
        "id": "_7YMJCIdZ6fB"
      },
      "execution_count": null,
      "outputs": []
    },
    {
      "cell_type": "markdown",
      "source": [],
      "metadata": {
        "id": "D8g6rc5yaiIr"
      }
    },
    {
      "cell_type": "code",
      "source": [
        "print(data.head())"
      ],
      "metadata": {
        "id": "fviU7Y9Pw9AJ"
      },
      "execution_count": null,
      "outputs": []
    },
    {
      "cell_type": "markdown",
      "source": [
        "id = unique identifier of apartment\n",
        "\n",
        "category = category of classified\n",
        "\n",
        "title = title text of apartment\n",
        "\n",
        "body = body text of apartment\n",
        "\n",
        "amenities = like AC, basketball,cable, gym, internet access, pool, refrigerator etc.\n",
        "\n",
        "bathrooms = number of bathrooms\n",
        "\n",
        "bedrooms = number of bedrooms\n",
        "\n",
        "currency = price in current\n",
        "\n",
        "fee = fee\n",
        "\n",
        "has_photo = photo of apartment\n",
        "pets_allowed = what pets are allowed dogs/cats etc.\n",
        "price = rental price of apartment\n",
        "price_display = price converted into display for reader\n",
        "price_type = price in USD\n",
        "square_feet = size of the apartment\n",
        "address =  where the apartment is located\n",
        "cityname =  where the apartment is located\n",
        "state =  where the apartment is located\n",
        "latitude = where the apartment is located\n",
        "longitude = where the apartment is located\n",
        "source = origin of classified\n",
        "time = when classified was created"
      ],
      "metadata": {
        "id": "CUPW51GT3HXe"
      }
    },
    {
      "cell_type": "code",
      "source": [
        "# Check sum of null values\n",
        "data.isnull().sum()"
      ],
      "metadata": {
        "id": "4SO9umyhxhMI"
      },
      "execution_count": null,
      "outputs": []
    },
    {
      "cell_type": "markdown",
      "source": [
        "\n",
        "\n",
        "1.   Amenities: karena banyak missing values, maka akan di-drop\n",
        "2.   Pets allowed akan menggunakan mode\n",
        "\n"
      ],
      "metadata": {
        "id": "NM3ex-SR3oY0"
      }
    },
    {
      "cell_type": "code",
      "source": [
        "# Dropping unfit columns\n",
        "data = data.drop(['amenities','title','body','category', 'currency', 'fee', 'price_type', 'address', 'cityname'], axis=1)\n",
        "\n",
        "# Axis -> 0=row, 1=col"
      ],
      "metadata": {
        "id": "hav3hz-ai79Y"
      },
      "execution_count": null,
      "outputs": []
    },
    {
      "cell_type": "code",
      "source": [
        "data['bathrooms'] = pd.to_numeric(data['bathrooms'], errors='coerce')\n",
        "data['bedrooms'] = pd.to_numeric(data['bedrooms'], errors='coerce')\n",
        "data['square_feet'] = pd.to_numeric(data['square_feet'], errors='coerce')\n",
        "\n",
        "# Filling missing values in categorical columns with the mode\n",
        "columns_to_fill = ['pets_allowed','bathrooms','bedrooms', 'price','state', 'has_photo', 'square_feet', 'source', 'time']\n",
        "data[columns_to_fill] = data[columns_to_fill].fillna(data[columns_to_fill].mode().iloc[0])\n",
        "\n",
        "# Filling missing values in numerical columns with mean\n",
        "data['latitude'].fillna(data['latitude'].mean(), inplace=True)\n",
        "data['longitude'].fillna(data['longitude'].mean(), inplace=True)"
      ],
      "metadata": {
        "id": "HH-FLrTphv2Y"
      },
      "execution_count": null,
      "outputs": []
    },
    {
      "cell_type": "code",
      "source": [
        "data.isnull().sum()"
      ],
      "metadata": {
        "id": "4bEpqf1fhpFI"
      },
      "execution_count": null,
      "outputs": []
    },
    {
      "cell_type": "code",
      "source": [
        "X.info()"
      ],
      "metadata": {
        "id": "0isNMp66jAng"
      },
      "execution_count": null,
      "outputs": []
    },
    {
      "cell_type": "code",
      "source": [
        "encoded_data = pd.get_dummies(X, columns=['has_photo', 'pets_allowed','source', 'state'])"
      ],
      "metadata": {
        "id": "BmpP3ZexkeXB"
      },
      "execution_count": null,
      "outputs": []
    },
    {
      "cell_type": "code",
      "source": [
        "encoded_data.head()"
      ],
      "metadata": {
        "id": "ruLEBJmel00o"
      },
      "execution_count": null,
      "outputs": []
    },
    {
      "cell_type": "code",
      "source": [
        "features = encoded_data.drop(['price'], axis=1)  # Excluding 'price' column\n",
        "target = encoded_data['price']"
      ],
      "metadata": {
        "id": "74bz7itPl4u6"
      },
      "execution_count": null,
      "outputs": []
    },
    {
      "cell_type": "code",
      "source": [
        "X = features\n",
        "y = target"
      ],
      "metadata": {
        "id": "jd3PMZmFmFCo"
      },
      "execution_count": null,
      "outputs": []
    },
    {
      "cell_type": "code",
      "source": [
        "from sklearn.cluster import KMeans\n",
        "from sklearn.metrics import silhouette_score\n",
        "\n",
        "# Initialize K-Means with different 'n_clusters' values\n",
        "k_values = [3, 4, 5]\n",
        "for k in k_values:\n",
        "    kmeans = KMeans(n_clusters=k, random_state=42)\n",
        "    kmeans.fit(X)\n",
        "    cluster_labels = kmeans.labels_\n",
        "\n",
        "    # Calculate Inertia and Silhouette Score\n",
        "    inertia = kmeans.inertia_\n",
        "    silhouette = silhouette_score(X, cluster_labels)\n",
        "\n",
        "    print(f\"For K={k}:\")\n",
        "    print(f\"Inertia: {inertia}\")\n",
        "    print(f\"Silhouette Score: {silhouette}\")"
      ],
      "metadata": {
        "id": "zzgcW7c2jI2g"
      },
      "execution_count": null,
      "outputs": []
    },
    {
      "cell_type": "markdown",
      "source": [],
      "metadata": {
        "id": "getUsGU2wRPL"
      }
    },
    {
      "cell_type": "markdown",
      "source": [
        "# K-Means"
      ],
      "metadata": {
        "id": "pmDdjqwBwRg7"
      }
    },
    {
      "cell_type": "code",
      "source": [
        "from sklearn.cluster import KMeans\n",
        "import matplotlib.pyplot as plt\n",
        "\n",
        "# Choose number of clusters (you can determine this based on domain knowledge or using methods like the elbow method)\n",
        "num_clusters = 4\n",
        "\n",
        "# Initialize and fit K-Means\n",
        "kmeans = KMeans(n_clusters=num_clusters, random_state=42)\n",
        "kmeans.fit(features)\n",
        "\n",
        "# Get cluster labels for each data point\n",
        "cluster_labels = kmeans.labels_\n",
        "\n",
        "# Visualize clusters (considering 2D for simplicity, using first two numerical columns)\n",
        "plt.scatter(features.iloc[:, 0], features.iloc[:, 1], c=cluster_labels, cmap='viridis')\n",
        "plt.xlabel('Feature 1')\n",
        "plt.ylabel('Feature 2')\n",
        "plt.title('K-Means Clustering')\n",
        "plt.show()"
      ],
      "metadata": {
        "id": "Vvt7hz95tMGS"
      },
      "execution_count": null,
      "outputs": []
    },
    {
      "cell_type": "markdown",
      "source": [],
      "metadata": {
        "id": "NTsALs7XwZ1i"
      }
    },
    {
      "cell_type": "markdown",
      "source": [
        "# Hierarchical"
      ],
      "metadata": {
        "id": "EFZX_ggOwaIl"
      }
    },
    {
      "cell_type": "code",
      "source": [
        "import pandas as pd\n",
        "from scipy.cluster import hierarchy\n",
        "import matplotlib.pyplot as plt"
      ],
      "metadata": {
        "id": "ycw9hsSUz6Y9"
      },
      "execution_count": null,
      "outputs": []
    },
    {
      "cell_type": "code",
      "source": [
        "sample_df =\n",
        "sample_df"
      ],
      "metadata": {
        "id": "UhBeahDz0wHS"
      },
      "execution_count": null,
      "outputs": []
    },
    {
      "cell_type": "markdown",
      "source": [
        "Single Linkage"
      ],
      "metadata": {
        "id": "YGAD_WGx1Oz4"
      }
    },
    {
      "cell_type": "code",
      "source": [
        "#Calculate distance\n",
        "dist_data = hierarchy.distance.pdist(sample_df)\n",
        "\n",
        "#Clustering\n",
        "## Single Linkage\n",
        "res1 = hierarchy.linkage(dist_data, method='single')\n",
        "\n",
        "#Dendrogram\n",
        "plt.figure(figsize=(15, 10))\n",
        "hierarchy.dendrogram(res1, labels=sample_df.index)\n",
        "plt.show()"
      ],
      "metadata": {
        "id": "0sLFVNKM1NQr"
      },
      "execution_count": null,
      "outputs": []
    },
    {
      "cell_type": "code",
      "source": [
        "import numpy as np\n",
        "from sklearn.cluster import DBSCAN\n",
        "from sklearn.preprocessing import StandardScaler\n",
        "from sklearn.cluster import KMeans\n",
        "import pandas as pd"
      ],
      "metadata": {
        "id": "GSMv5TNZahUu"
      },
      "execution_count": null,
      "outputs": []
    },
    {
      "cell_type": "markdown",
      "source": [
        "Complete Linkage"
      ],
      "metadata": {
        "id": "MNiMzdE614QC"
      }
    },
    {
      "cell_type": "code",
      "source": [
        "# Hierarchical clustering with complete linkage\n",
        "res2 = hierarchy"
      ],
      "metadata": {
        "id": "fm7WhMe218lx"
      },
      "execution_count": null,
      "outputs": []
    },
    {
      "cell_type": "code",
      "source": [
        "# Convert features to DataFrame\n",
        "X_df = pd.DataFrame(X)\n",
        "\n",
        "# View the first 10 rows of the DataFrame\n",
        "# print(X_df.head(10))"
      ],
      "metadata": {
        "id": "srRYU-77a0QX"
      },
      "execution_count": null,
      "outputs": []
    },
    {
      "cell_type": "code",
      "source": [],
      "metadata": {
        "id": "ylBemaMicls5"
      },
      "execution_count": null,
      "outputs": []
    },
    {
      "cell_type": "code",
      "source": [],
      "metadata": {
        "id": "v3JV1adbfSn5"
      },
      "execution_count": null,
      "outputs": []
    }
  ]
}